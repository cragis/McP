{
 "cells": [
  {
   "cell_type": "markdown",
   "metadata": {},
   "source": [
    "# Prusa i3 Bear Full Upgrade MK3\n",
    "\n",
    "## Assembly Instructions\n",
    "\n",
    "* [Step 1 - Y axis v-slots](assembly_instructions/step01.md)\n",
    "* [Step 2 - Y axis v-slots](assembly_instructions/step02.md)\n",
    "* [Step 3 - Y axis v-slots](assembly_instructions/step03.md)\n",
    "* [Step 4 - Y axis v-slots](assembly_instructions/step04.md)\n",
    "* [Step 5 - Z axis v-slots](assembly_instructions/step05.md)\n",
    "* [Step 6 - Z axis v-slots](assembly_instructions/step06.md)\n",
    "* [Step 7 - Z axis v-slots](assembly_instructions/step07.md)\n",
    "* [Step 8 - Y axis rods](assembly_instructions/step08.md)\n",
    "* [Step 9 - Y axis motor, idler, PSU lower mount](assembly_instructions/step09.md)\n",
    "* [Step 10 - Y axis heated bed](assembly_instructions/step10.md)\n",
    "* [Step 11 - Z axis motors](assembly_instructions/step11.md)\n",
    "* [Step 12 - Z axis motors](assembly_instructions/step12.md)\n",
    "* [Step 13 - Z axis tops](assembly_instructions/step13.md)\n",
    "* [Step 14 - End caps and LCD cover](assembly_instructions/step14.md)\n",
    "* [Step 15 - PSU](assembly_instructions/step15.md)\n",
    "* [Step 16 - Einsy RAMBo](assembly_instructions/step16.md)\n",
    "* [Step 17 - Einsy RAMBo](assembly_instructions/step17.md)\n",
    "* [Step 18 - Electronic assembly](assembly_instructions/step18.md)\n",
    "* [Step 19 - Z axis end caps](assembly_instructions/step19.md)\n",
    "* [Step 20 - Calibration](assembly_instructions/step20.md)\n",
    "* [Step 21 - Calibration](assembly_instructions/step21.md)"
   ]
  },
  {
   "cell_type": "code",
   "execution_count": null,
   "metadata": {
    "collapsed": true
   },
   "outputs": [],
   "source": []
  }
 ],
 "metadata": {
  "kernelspec": {
   "display_name": "Python 3",
   "language": "python",
   "name": "python3"
  },
  "language_info": {
   "codemirror_mode": {
    "name": "ipython",
    "version": 3
   },
   "file_extension": ".py",
   "mimetype": "text/x-python",
   "name": "python",
   "nbconvert_exporter": "python",
   "pygments_lexer": "ipython3",
   "version": "3.5.2"
  }
 },
 "nbformat": 4,
 "nbformat_minor": 2
}
